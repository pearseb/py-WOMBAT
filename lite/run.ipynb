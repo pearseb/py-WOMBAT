{
 "cells": [
  {
   "cell_type": "markdown",
   "id": "21e8986c-dbf8-44a9-957a-cb70f2ec7574",
   "metadata": {},
   "source": [
    "# Run the pyWOMBAT biogeochemical model in 1D water column configuration"
   ]
  },
  {
   "cell_type": "code",
   "execution_count": 9,
   "id": "2a8f8d02-4e21-42aa-a1bb-dd1d78984101",
   "metadata": {},
   "outputs": [
    {
     "name": "stdout",
     "output_type": "stream",
     "text": [
      "/home/581/pjb581/py-WOMBAT/lite\n",
      "python version = 3.10.\n",
      "numpy version = 1.24.4\n",
      "xarray version = 2023.8.0\n",
      "scipy version = 1.15.1\n",
      "PyCO2SYS version = 1.8.3.4\n",
      "2025-04-25 15:09:20.607596\n"
     ]
    },
    {
     "data": {
      "text/plain": [
       "'\\nNOTE: Need read permissions for groups es60, gb6, qv56\\n'"
      ]
     },
     "execution_count": 9,
     "metadata": {},
     "output_type": "execute_result"
    }
   ],
   "source": [
    "import sys\n",
    "import os\n",
    "import itertools\n",
    "import logging\n",
    "from datetime import datetime\n",
    "import numpy as np\n",
    "import pandas as pd\n",
    "import xarray as xr\n",
    "import scipy as sci\n",
    "from scipy.stats import qmc\n",
    "import PyCO2SYS as pyco2\n",
    "import matplotlib.pyplot as plt\n",
    "import multiprocessing\n",
    "\n",
    "# Ensure we are in the correct directory\n",
    "os.chdir(\"/home/581/pjb581/py-WOMBAT/lite\")\n",
    "print(os.getcwd())\n",
    "from main import main  # Import the main function from main.py\n",
    "\n",
    "# Define output directory and ensure it exists (MAKE SURE A FORWARD SLASH EXISTS AT END)\n",
    "OUTPUT_DIR = \"/g/data/es60/pjb581/py-WOMBAT/output/\"\n",
    "os.makedirs(OUTPUT_DIR, exist_ok=True)\n",
    "\n",
    "print(\"python version =\",sys.version[:5])\n",
    "print(\"numpy version =\", np.__version__)\n",
    "print(\"xarray version =\", xr.__version__)\n",
    "print(\"scipy version =\", sci.__version__)\n",
    "print(\"PyCO2SYS version =\", pyco2.__version__)\n",
    "\n",
    "print(datetime.now())\n",
    "\n",
    "\"\"\"\n",
    "NOTE: Need read permissions for groups es60, gb6, qv56\n",
    "\"\"\""
   ]
  },
  {
   "cell_type": "code",
   "execution_count": 10,
   "id": "ff433452-4212-4db1-98f8-5709d6ac2e33",
   "metadata": {},
   "outputs": [
    {
     "name": "stdout",
     "output_type": "stream",
     "text": [
      "  master\u001b[m\n",
      "  pyWOMBAT-on-Gadi\u001b[m\n",
      "* \u001b[32mpyWOMBAT-on-Gadi_microbes\u001b[m\n"
     ]
    }
   ],
   "source": [
    "!git branch"
   ]
  },
  {
   "cell_type": "markdown",
   "id": "172b55e6-4dc4-40d5-af19-8401c0841a55",
   "metadata": {},
   "source": [
    "## Define the experimental parameters"
   ]
  },
  {
   "cell_type": "code",
   "execution_count": 11,
   "id": "c68a8a35-f3eb-4deb-8ad4-196226aba365",
   "metadata": {},
   "outputs": [
    {
     "data": {
      "text/plain": [
       "array([[1.000e+00, 2.001e+03, 3.650e+02, 3.400e+02, 3.000e+01, 4.000e+02],\n",
       "       [2.000e+00, 2.001e+03, 3.650e+02, 2.000e+02, 1.000e+01, 4.000e+02]])"
      ]
     },
     "execution_count": 11,
     "metadata": {},
     "output_type": "execute_result"
    }
   ],
   "source": [
    "year = 2001\n",
    "days = 365*1\n",
    "lon = 340.0\n",
    "lat = 30.0\n",
    "atm_co2 = 400.0\n",
    "\n",
    "info = np.array([[1.0, year, days, 340.0, 30.0, atm_co2],\n",
    "                 [2.0, year, days, 200.0, 10.0, atm_co2]])\n",
    "info"
   ]
  },
  {
   "cell_type": "markdown",
   "id": "33104b0f-c5b6-4a54-b378-d9f16fccb9c9",
   "metadata": {},
   "source": [
    "## Save parameter sets in excel"
   ]
  },
  {
   "cell_type": "code",
   "execution_count": 12,
   "id": "c25a5fb0-6e25-4de1-93e5-8514841f4330",
   "metadata": {},
   "outputs": [
    {
     "data": {
      "text/html": [
       "<div>\n",
       "<style scoped>\n",
       "    .dataframe tbody tr th:only-of-type {\n",
       "        vertical-align: middle;\n",
       "    }\n",
       "\n",
       "    .dataframe tbody tr th {\n",
       "        vertical-align: top;\n",
       "    }\n",
       "\n",
       "    .dataframe thead th {\n",
       "        text-align: right;\n",
       "    }\n",
       "</style>\n",
       "<table border=\"1\" class=\"dataframe\">\n",
       "  <thead>\n",
       "    <tr style=\"text-align: right;\">\n",
       "      <th></th>\n",
       "      <th>expnum</th>\n",
       "      <th>year</th>\n",
       "      <th>days</th>\n",
       "      <th>longitude</th>\n",
       "      <th>latitude</th>\n",
       "      <th>atmCO2</th>\n",
       "    </tr>\n",
       "  </thead>\n",
       "  <tbody>\n",
       "    <tr>\n",
       "      <th>0</th>\n",
       "      <td>1.0</td>\n",
       "      <td>2001.0</td>\n",
       "      <td>365.0</td>\n",
       "      <td>340.0</td>\n",
       "      <td>30.0</td>\n",
       "      <td>400.0</td>\n",
       "    </tr>\n",
       "    <tr>\n",
       "      <th>1</th>\n",
       "      <td>2.0</td>\n",
       "      <td>2001.0</td>\n",
       "      <td>365.0</td>\n",
       "      <td>200.0</td>\n",
       "      <td>10.0</td>\n",
       "      <td>400.0</td>\n",
       "    </tr>\n",
       "  </tbody>\n",
       "</table>\n",
       "</div>"
      ],
      "text/plain": [
       "   expnum    year   days  longitude  latitude  atmCO2\n",
       "0     1.0  2001.0  365.0      340.0      30.0   400.0\n",
       "1     2.0  2001.0  365.0      200.0      10.0   400.0"
      ]
     },
     "execution_count": 12,
     "metadata": {},
     "output_type": "execute_result"
    }
   ],
   "source": [
    "names = [\"expnum\", \"year\", \"days\", \"longitude\", \"latitude\", \"atmCO2\"]\n",
    "\n",
    "paramsets = pd.DataFrame(info, columns=names)\n",
    "paramsets"
   ]
  },
  {
   "cell_type": "markdown",
   "id": "5ed1aac2-e43d-4fae-b3a6-59edcadfda8c",
   "metadata": {},
   "source": [
    "## Run the experiments"
   ]
  },
  {
   "cell_type": "code",
   "execution_count": 13,
   "id": "ab8cc909-7faa-421d-8d24-44191437242a",
   "metadata": {},
   "outputs": [],
   "source": [
    "# setup the log file for each experiment\n",
    "def setup_logging():\n",
    "    log_file = f\"experiment_output_{multiprocessing.current_process().pid}.log\"\n",
    "    logging.basicConfig(filename=log_file, level=logging.INFO, format=\"%(asctime)s - %(message)s\")\n",
    "\n",
    "\n",
    "# Define function to run one experiment\n",
    "def run_experiment(exp):\n",
    "\n",
    "    setup_logging()\n",
    "    \n",
    "    expnum, yr, dayl, lon, lat, atm_co2 = exp\n",
    "    \n",
    "    logging.info(f\"\\n🚀 Running Experiment with Params: {exp}\")\n",
    "    logging.info(f\"Process {multiprocessing.current_process().pid} started at {datetime.now()}\")\n",
    "    \n",
    "    # Run the main function with these parameters\n",
    "    main(expnum, yr, dayl, lon, lat, atm_co2)\n",
    "\n",
    "    logging.info(f\"Process {multiprocessing.current_process().pid} finished at {datetime.now()}\")\n",
    "    logging.info(f\"✅ Experiment Complete: {exp}\")\n",
    "    \n"
   ]
  },
  {
   "cell_type": "code",
   "execution_count": 14,
   "id": "42613975-48c3-4c74-91ef-6f7d2f8f4b99",
   "metadata": {},
   "outputs": [
    {
     "data": {
      "text/plain": [
       "(2, 6)"
      ]
     },
     "execution_count": 14,
     "metadata": {},
     "output_type": "execute_result"
    }
   ],
   "source": [
    "### Cut out the experiments already run\n",
    "done = set()\n",
    "for fn in os.listdir(OUTPUT_DIR):\n",
    "    if \"exp\" in fn and fn.endswith(\".nc\"):\n",
    "            try:\n",
    "                # Extract the experiment number\n",
    "                exp_str = fn.split(\"exp\")[-1].split(\".nc\")[0]\n",
    "                expnum = int(exp_str)\n",
    "                done.add(expnum)\n",
    "            except ValueError:\n",
    "                # In case conversion fails, skip this file\n",
    "                continue\n",
    "\n",
    "todo = [exp for exp in info if exp[0] not in done]\n",
    "np.shape(todo)"
   ]
  },
  {
   "cell_type": "code",
   "execution_count": null,
   "id": "c48804e2-4172-4b57-b74c-1a4b82f21f6a",
   "metadata": {},
   "outputs": [
    {
     "name": "stdout",
     "output_type": "stream",
     "text": [
      "Running 2 parallel experiments\n"
     ]
    }
   ],
   "source": [
    "# Run experiments in parallel using multiprocessing\n",
    "if __name__ == \"__main__\":\n",
    "    num_processes = min(min(multiprocessing.cpu_count(), 2), len(todo))  # Use at most the available cores to a max of 16\n",
    "    print(\"Running %i parallel experiments\"%(num_processes))\n",
    "    with multiprocessing.Pool(processes=num_processes) as pool:\n",
    "        pool.map(run_experiment, todo)\n",
    "\n",
    "    # Check generated output files\n",
    "    output_files = os.listdir(\"output\")\n",
    "    print(\"\\nGenerated output files:\", output_files)\n",
    "    "
   ]
  },
  {
   "cell_type": "code",
   "execution_count": null,
   "id": "d2c70746-465c-4cd0-b169-a786ac309080",
   "metadata": {},
   "outputs": [],
   "source": []
  }
 ],
 "metadata": {
  "kernelspec": {
   "display_name": "Python 3 (ipykernel)",
   "language": "python",
   "name": "python3"
  },
  "language_info": {
   "codemirror_mode": {
    "name": "ipython",
    "version": 3
   },
   "file_extension": ".py",
   "mimetype": "text/x-python",
   "name": "python",
   "nbconvert_exporter": "python",
   "pygments_lexer": "ipython3",
   "version": "3.10.16"
  }
 },
 "nbformat": 4,
 "nbformat_minor": 5
}
